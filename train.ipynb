{
 "cells": [
  {
   "cell_type": "code",
   "execution_count": null,
   "metadata": {},
   "outputs": [
    {
     "name": "stdout",
     "output_type": "stream",
     "text": [
      "Tokens: ['လွန်ခဲ့တဲ့', 'နှစ်', '၂၀', 'ကျော်', 'ကျွန်တော်တို့', 'စင်ကာပူ', 'ရောက်ခါစက', '၊', 'စာအုပ်ဆိုင်', 'တွေ', 'သွားရင်', 'သတိထားမိတဲ့', 'စာအုပ်', 'တစ်အုပ်', 'ရှိတယ်', '။']\n",
      "Decoded Text: လွန်ခဲ့တဲ့ နှစ် ၂၀ ကျော် ကျွန်တော်တို့ စင်ကာပူ ရောက်ခါစက ၊ စာအုပ်ဆိုင် တွေ သွားရင် သတိထားမိတဲ့ စာအုပ် တစ်အုပ် ရှိတယ် ။\n"
     ]
    }
   ],
   "source": [
    "## Training Custom Dataset\n",
    "import re\n",
    "from tokenizers import Tokenizer\n",
    "from tokenizers.models import BPE\n",
    "from tokenizers.trainers import BpeTrainer\n",
    "from tokenizers.pre_tokenizers import Whitespace\n",
    "\n",
    "## Initialize a BPE tokenizer\n",
    "tokenizer = Tokenizer(BPE(unk_token=\"<unk>\"))\n",
    "trainer = BpeTrainer(special_tokens=[\"<unk>\", \"<s>\", \"</s>\"], vocab_size=50000)\n",
    "tokenizer.pre_tokenizer = Whitespace()\n",
    "\n",
    "## Read new vocab words from the .txt file, split by spaces\n",
    "with open(\"dataset.txt\", 'r', encoding='utf-8') as file:\n",
    "    data = file.readlines()\n",
    "\n",
    "data = [re.sub(r'([a-zA-Z0-9၀-၉]+)', r' \\1 ', line.strip()) for line in data]\n",
    "data = [re.sub(r\"\\\\[\\'\\\"]\", '', line.strip()) for line in data]\n",
    "data = [re.sub(r'[\\s\\u200b]+', ' ', line.strip()) for line in data]\n",
    "\n",
    "tokenizer.train_from_iterator(data, trainer)\n",
    "tokenizer.save(\"bpe_tokenizer.json\")\n",
    "\n",
    "## Tokenize a sentence\n",
    "output = tokenizer.encode(\"လွန်ခဲ့တဲ့နှစ်၂၀ကျော်ကျွန်တော်တို့စင်ကာပူရောက်ခါစက၊ စာအုပ်ဆိုင်တွေသွားရင် သတိထားမိတဲ့ စာအုပ်တစ်အုပ်ရှိတယ်။ \")\n",
    "print(\"Tokens:\", output.tokens)\n",
    "\n",
    "## Decode back to text\n",
    "decoded_text = tokenizer.decode(output.ids)\n",
    "print(\"Decoded Text:\", decoded_text)"
   ]
  }
 ],
 "metadata": {
  "kernelspec": {
   "display_name": "MyEnv",
   "language": "python",
   "name": "python3"
  },
  "language_info": {
   "codemirror_mode": {
    "name": "ipython",
    "version": 3
   },
   "file_extension": ".py",
   "mimetype": "text/x-python",
   "name": "python",
   "nbconvert_exporter": "python",
   "pygments_lexer": "ipython3",
   "version": "3.10.11"
  }
 },
 "nbformat": 4,
 "nbformat_minor": 2
}
