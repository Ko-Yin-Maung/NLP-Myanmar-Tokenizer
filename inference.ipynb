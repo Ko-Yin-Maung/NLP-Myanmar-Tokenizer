{
 "cells": [
  {
   "cell_type": "code",
   "execution_count": 1,
   "metadata": {},
   "outputs": [
    {
     "name": "stdout",
     "output_type": "stream",
     "text": [
      "Tokens: ['အာဏာ', 'ဆိုတာ', 'သိပ်ကို', 'အန္တရာယ်', 'ကြီးတယ်', 'အာဏာဟာ', 'အဆိုးဆုံး', 'လူတွေကို', 'ဆွဲဆောင်နိုင်ပြီး', 'အကောင်းဆုံး', 'လူတွေကို', 'တောင်', 'ပျက်စီး', 'စေတယ်', '။']\n",
      "IDs: [1459, 653, 11465, 3849, 3905, 28935, 12251, 4633, 36590, 3669, 4633, 377, 4107, 6252, 161]\n",
      "Decoded Text: အာဏာ ဆိုတာ သိပ်ကို အန္တရာယ် ကြီးတယ် အာဏာဟာ အဆိုးဆုံး လူတွေကို ဆွဲဆောင်နိုင်ပြီး အကောင်းဆုံး လူတွေကို တောင် ပျက်စီး စေတယ် ။\n"
     ]
    }
   ],
   "source": [
    "## Inference\n",
    "from tokenizers import Tokenizer\n",
    "\n",
    "tokenizer = Tokenizer.from_file(\"bpe_tokenizer.json\")\n",
    "text = \"အာဏာဆိုတာသိပ်ကိုအန္တရာယ်ကြီးတယ်အာဏာဟာအဆိုးဆုံးလူတွေကိုဆွဲဆောင်နိုင်ပြီးအကောင်းဆုံးလူတွေကိုတောင်ပျက်စီးစေတယ်။\"\n",
    "tokens = tokenizer.encode(text)\n",
    "print(\"Tokens:\", tokens.tokens)\n",
    "print(\"IDs:\", tokens.ids)\n",
    "print(\"Decoded Text:\", tokenizer.decode(tokens.ids))"
   ]
  },
  {
   "cell_type": "code",
   "execution_count": 2,
   "metadata": {},
   "outputs": [
    {
     "name": "stdout",
     "output_type": "stream",
     "text": [
      "အကြမ်းဖက်မှု တိုင်းမှာ ဘယ်တော့မှ မတော်တဆ ဆိုတာ မရှိဘူး ။ အမြဲတမ်း ရွေးချယ်မှု သက်သက်သာ ဖြစ်တယ် ။\n",
      "လူကို လူ နှင့် ဝေး အောင်လုပ် သော ပထမ အရာမှာ နှုတ်နှင့် လျှာ ဖြစ်ပြီး ဒုတိယ အရာမှာ ငွေ ဖြစ်သည် ။\n",
      "စာအုပ်တွေ မပါဘဲ သင်ယူရတဲ့ ပညာကို ဘ ၀ လို့ ခေါ်သည် ။ သို့သော် မှန်ကန်သော ဘ ၀ နေနည်းများ သည် စာအုပ် စာ‌ပေများ ထဲမှသာ အစပျိုးလေ ၏။\n",
      "ဘယ် ငှက်မှ အပျံ မသင်ဘဲ အမြင့် မရောက်နိုင်ဘူး ။ မိုင်ပေါင်းများစွာ အတွက် အရေးအကြီးဆုံး စမှတ် သည်က ပထမဆုံးသော ခြေလှမ်း တစ်လှမ်းသာ ။\n"
     ]
    }
   ],
   "source": [
    "from tokenizers import Tokenizer\n",
    "\n",
    "tokenizer = Tokenizer.from_file(\"bpe_tokenizer.json\")\n",
    "data = [\n",
    "    \"အကြမ်းဖက်မှုတိုင်းမှာဘယ်တော့မှမတော်တဆဆိုတာမရှိဘူး။အမြဲတမ်းရွေးချယ်မှုသက်သက်သာဖြစ်တယ်။\",\n",
    "    \"လူကိုလူနှင့်ဝေးအောင်လုပ်သောပထမအရာမှာနှုတ်နှင့်လျှာဖြစ်ပြီးဒုတိယအရာမှာငွေဖြစ်သည်။\",\n",
    "    \"စာအုပ်တွေမပါဘဲသင်ယူရတဲ့ပညာကိုဘ၀လို့ခေါ်သည်။သို့သော်မှန်ကန်သောဘ၀နေနည်းများသည်စာအုပ်စာ‌ပေများထဲမှသာအစပျိုးလေ၏။\",\n",
    "    \"ဘယ်ငှက်မှအပျံမသင်ဘဲအမြင့်မရောက်နိုင်ဘူး။မိုင်ပေါင်းများစွာအတွက်အရေးအကြီးဆုံးစမှတ်သည်ကပထမဆုံးသောခြေလှမ်းတစ်လှမ်းသာ။\"\n",
    "]\n",
    "for sentence in data:\n",
    "    tokens = \" \".join(tokenizer.encode(sentence).tokens)\n",
    "    print(tokens)"
   ]
  }
 ],
 "metadata": {
  "kernelspec": {
   "display_name": "MyEnv",
   "language": "python",
   "name": "python3"
  },
  "language_info": {
   "codemirror_mode": {
    "name": "ipython",
    "version": 3
   },
   "file_extension": ".py",
   "mimetype": "text/x-python",
   "name": "python",
   "nbconvert_exporter": "python",
   "pygments_lexer": "ipython3",
   "version": "3.10.11"
  }
 },
 "nbformat": 4,
 "nbformat_minor": 2
}
